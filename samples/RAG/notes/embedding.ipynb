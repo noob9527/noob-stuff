{
 "cells": [
  {
   "cell_type": "code",
   "execution_count": 2,
   "outputs": [],
   "source": [
    "\n",
    "from dotenv import load_dotenv, find_dotenv\n",
    "\n",
    "_ = load_dotenv(find_dotenv())  # read local .env file\n"
   ],
   "metadata": {
    "collapsed": false,
    "ExecuteTime": {
     "end_time": "2024-06-28T02:07:10.684729Z",
     "start_time": "2024-06-28T02:07:10.674484Z"
    }
   },
   "id": "739a2185276c9b7b"
  },
  {
   "cell_type": "code",
   "execution_count": 3,
   "outputs": [
    {
     "name": "stderr",
     "output_type": "stream",
     "text": [
      "/Users/xy/Workspace/code/capvision/us-db/us-rag/.venv/lib/python3.10/site-packages/tqdm/auto.py:21: TqdmWarning: IProgress not found. Please update jupyter and ipywidgets. See https://ipywidgets.readthedocs.io/en/stable/user_install.html\n",
      "  from .autonotebook import tqdm as notebook_tqdm\n"
     ]
    }
   ],
   "source": [
    "import os\n",
    "from sentence_transformers import SentenceTransformer\n",
    "\n",
    "model_path = os.environ.get('EMBEDDING_MODEL_PATH')\n",
    "\n",
    "__acge_text_embedding = SentenceTransformer(model_name_or_path=model_path)\n",
    "\n",
    "# dimension: [1024, 1792]\n",
    "def embedding(text: str, dimension: [1024, 1792] = 1792):\n",
    "    return __acge_text_embedding.encode(text)[:dimension]"
   ],
   "metadata": {
    "collapsed": false,
    "ExecuteTime": {
     "end_time": "2024-06-28T02:07:18.878875Z",
     "start_time": "2024-06-28T02:07:10.683956Z"
    }
   },
   "id": "4975fc0cc3644448"
  },
  {
   "cell_type": "code",
   "execution_count": 4,
   "outputs": [
    {
     "data": {
      "text/plain": "[315.92615, 234.9448, 174.83838, 177.16385, 126.420586, 149.27242]"
     },
     "execution_count": 4,
     "metadata": {},
     "output_type": "execute_result"
    }
   ],
   "source": [
    "import numpy as np\n",
    "\n",
    "query = embedding(\"有能聊 AI 的专家吗?\")\n",
    "\n",
    "candidates = [\n",
    "    \"专家 1，能聊 AI\",\n",
    "    \"专家 2，擅长 NLP，CV 领域\",\n",
    "    \"专家 3，LLM 领域 10 年工作经验, 擅长写 prompt\",\n",
    "    \"专家 4，35岁，前程序员，现任职饿了么\",\n",
    "    \"专家 5，三甲医院医生\",\n",
    "    \"专家 6，销售总监\",\n",
    "]\n",
    "\n",
    "vectors = [embedding(candidate) for candidate in candidates]\n",
    "distances = [np.dot(query, answer) for answer in vectors]\n",
    "distances"
   ],
   "metadata": {
    "collapsed": false,
    "ExecuteTime": {
     "end_time": "2024-06-28T02:07:19.652068Z",
     "start_time": "2024-06-28T02:07:18.881658Z"
    }
   },
   "id": "242d93d0d114b297"
  },
  {
   "cell_type": "code",
   "execution_count": 5,
   "outputs": [
    {
     "data": {
      "text/plain": "[214.41298, 141.40436, 152.02237, 112.83397, 169.58488, 120.864624]"
     },
     "execution_count": 5,
     "metadata": {},
     "output_type": "execute_result"
    }
   ],
   "source": [
    "# what about antonym?\n",
    "query = embedding(\"help me find some patient experts!\")\n",
    "\n",
    "candidates = [\n",
    "    \"expert 1，impatient expert\",\n",
    "    \"expert 2，good at NLP，CV\",\n",
    "    \"expert 3，10 years experiences in LLM research\",\n",
    "    \"expert 4，programmer\",\n",
    "    \"expert 5，doctor\",\n",
    "    \"expert 6，seller\",\n",
    "]\n",
    "\n",
    "vectors = [embedding(candidate) for candidate in candidates]\n",
    "distances = [np.dot(query, answer) for answer in vectors]\n",
    "distances\n"
   ],
   "metadata": {
    "collapsed": false,
    "ExecuteTime": {
     "end_time": "2024-06-28T02:07:20.005659Z",
     "start_time": "2024-06-28T02:07:19.645646Z"
    }
   },
   "id": "23069b991170b558"
  }
 ],
 "metadata": {
  "kernelspec": {
   "display_name": "Python 3",
   "language": "python",
   "name": "python3"
  },
  "language_info": {
   "codemirror_mode": {
    "name": "ipython",
    "version": 2
   },
   "file_extension": ".py",
   "mimetype": "text/x-python",
   "name": "python",
   "nbconvert_exporter": "python",
   "pygments_lexer": "ipython2",
   "version": "2.7.6"
  }
 },
 "nbformat": 4,
 "nbformat_minor": 5
}
