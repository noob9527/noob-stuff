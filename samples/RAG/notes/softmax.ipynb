{
 "cells": [
  {
   "cell_type": "code",
   "execution_count": 14,
   "id": "initial_id",
   "metadata": {
    "collapsed": true,
    "ExecuteTime": {
     "end_time": "2024-06-28T06:26:42.932911Z",
     "start_time": "2024-06-28T06:26:42.927019Z"
    }
   },
   "outputs": [
    {
     "name": "stdout",
     "output_type": "stream",
     "text": [
      "[0.08894682 0.24178252 0.65723302 0.01203764]\n",
      "[0.24934857 0.25185456 0.25438574 0.24441113]\n",
      "1.0\n",
      "1.0\n"
     ]
    }
   ],
   "source": [
    "import numpy as np\n",
    "\n",
    "\n",
    "def softmax(arr, temperature = 1):\n",
    "    return np.exp(np.divide(arr, temperature)) / sum(\n",
    "        np.exp(np.divide(arr, temperature)))\n",
    "\n",
    "\n",
    "array = np.array([1, 2, 3, -1])\n",
    "print(softmax(array))\n",
    "print(softmax([1, 2, 3, -1], temperature = 100))\n",
    "print(np.sum(softmax(array)))\n",
    "print(np.sum(softmax([1, 2, 3, -1], temperature = 100)))\n"
   ]
  }
 ],
 "metadata": {
  "kernelspec": {
   "display_name": "Python 3",
   "language": "python",
   "name": "python3"
  },
  "language_info": {
   "codemirror_mode": {
    "name": "ipython",
    "version": 2
   },
   "file_extension": ".py",
   "mimetype": "text/x-python",
   "name": "python",
   "nbconvert_exporter": "python",
   "pygments_lexer": "ipython2",
   "version": "2.7.6"
  }
 },
 "nbformat": 4,
 "nbformat_minor": 5
}
